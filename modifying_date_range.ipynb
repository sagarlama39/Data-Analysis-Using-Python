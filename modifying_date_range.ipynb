{
  "nbformat": 4,
  "nbformat_minor": 0,
  "metadata": {
    "colab": {
      "name": "modifying date range.ipynb",
      "provenance": [],
      "collapsed_sections": []
    },
    "kernelspec": {
      "name": "python3",
      "display_name": "Python 3"
    },
    "language_info": {
      "name": "python"
    }
  },
  "cells": [
    {
      "cell_type": "markdown",
      "metadata": {
        "id": "4ivrZoYPSiAA"
      },
      "source": [
        "##In this notebook, we will convert dates stored inn various formats and string data types to same format and integer data type."
      ]
    },
    {
      "cell_type": "code",
      "metadata": {
        "id": "ANrQ_JgMSOcn"
      },
      "source": [
        "test_data = [\"1912\", \"1929\", \"1913-1923\",\n",
        "             \"(1951)\", \"1994\", \"1934\",\n",
        "             \"c. 1915\", \"1995\", \"c. 1912\",\n",
        "             \"(1988)\", \"2002\", \"1957-1959\",\n",
        "             \"c. 1955.\", \"c. 1970's\", \n",
        "             \"C. 1990-1999\"]"
      ],
      "execution_count": 1,
      "outputs": []
    },
    {
      "cell_type": "markdown",
      "metadata": {
        "id": "TgqWSMh_TaG_"
      },
      "source": [
        "This test_data list contains data in many different formats:\n",
        "\n",
        "Some years are in parentheses.\n",
        "Some years have c. or C. before them, indicating that the year is approximate.\n",
        "Some have year ranges, indicated with a dash.\n",
        "Some have 's to indicate a decade.\n",
        "\n",
        "To complete our task, there are many characters we'll need to remove. One option is to write an individual str.replace() for each character. A more efficient option is to write a function that iterates over a list of \"bad\" characters, so our code is easier to understand.\n",
        "\n",
        "**bad_chars**: This is a list of the characters you'll need to replace. This means you spend your time thinking about the structure of your code, rather than making sure you got every character."
      ]
    },
    {
      "cell_type": "code",
      "metadata": {
        "id": "Bt3Fi-O0TJuy"
      },
      "source": [
        "bad_chars = [\"(\",\")\",\"c\",\"C\",\".\",\"s\",\"'\", \" \"]"
      ],
      "execution_count": 2,
      "outputs": []
    },
    {
      "cell_type": "markdown",
      "metadata": {
        "id": "2CgKLWvMULPt"
      },
      "source": [
        "We are creating a function called strip_characters(), which accepts a string argument and does the following:\n",
        "* Iterates over the bad_chars list, using str.replace() to remove each character\n",
        "* Returns the cleaned string\n",
        "\n"
      ]
    },
    {
      "cell_type": "code",
      "metadata": {
        "colab": {
          "base_uri": "https://localhost:8080/"
        },
        "id": "yIeWZ-orUd9O",
        "outputId": "8974d09b-6cbb-47df-c3cb-f197c4c0f74a"
      },
      "source": [
        "def strip_characters(string):\n",
        "    for word in bad_chars:\n",
        "        string = string.replace(word,\"\")\n",
        "    return string\n",
        "\n",
        "stripped_test_data = []\n",
        "for word in test_data:\n",
        "    word = strip_characters(word)\n",
        "    stripped_test_data.append(word)\n",
        "    \n",
        "print(stripped_test_data)"
      ],
      "execution_count": 3,
      "outputs": [
        {
          "output_type": "stream",
          "text": [
            "['1912', '1929', '1913-1923', '1951', '1994', '1934', '1915', '1995', '1912', '1988', '2002', '1957-1959', '1955', '1970', '1990-1999']\n"
          ],
          "name": "stdout"
        }
      ]
    },
    {
      "cell_type": "markdown",
      "metadata": {
        "id": "UWwQ6iIOUmPW"
      },
      "source": [
        "There are two different scenarios that we need to prepare for when converting these to integers:\n",
        "\n",
        "* Some are a single year (e.g., 1912).\n",
        "* Some are ranges of years (e.g., 1913-1923)."
      ]
    },
    {
      "cell_type": "markdown",
      "metadata": {
        "id": "CtipurAEU10m"
      },
      "source": [
        "We want to write code that does the following for each value:\n",
        "\n",
        "* Checks if the dash character (-) is in the string so we know if it's a range or not.\n",
        "* If the date is a range:\n",
        "1. Splits the string into two strings, before and after the dash character\n",
        "2. Converts the two numbers to the integer type and then averages them by adding them together and dividing by two\n",
        "3. Uses the round() function to round the average, so values like 1964.5 become 1964\n",
        "* If the date isn't a range, we want the code to do the following:\n",
        "1. Convert the value to an integer type"
      ]
    },
    {
      "cell_type": "code",
      "metadata": {
        "id": "pfu4p7Y5VTiU"
      },
      "source": [
        "def process_date(string):\n",
        "    if '-' in string:\n",
        "        string = string.split('-')\n",
        "        date_1 = int(string[0])\n",
        "        date_2 = int(string[1])\n",
        "        avg_date = (date_1 + date_2) / 2\n",
        "        avg_date = round(avg_date)\n",
        "    else:\n",
        "        avg_date = int(string)\n",
        "    return avg_date"
      ],
      "execution_count": 4,
      "outputs": []
    },
    {
      "cell_type": "markdown",
      "metadata": {
        "id": "YHpubgDDVh4S"
      },
      "source": [
        "Now lets use the function to obtain the processed test data."
      ]
    },
    {
      "cell_type": "code",
      "metadata": {
        "colab": {
          "base_uri": "https://localhost:8080/"
        },
        "id": "5CR1UDHNVcJb",
        "outputId": "c5fd45d9-6273-4150-e2fe-0278b2f41953"
      },
      "source": [
        "processed_test_data = []\n",
        "\n",
        "for data in stripped_test_data:\n",
        "    processed = process_date(data)\n",
        "    processed_test_data.append(processed)\n",
        "    \n",
        "print(processed_test_data)"
      ],
      "execution_count": 5,
      "outputs": [
        {
          "output_type": "stream",
          "text": [
            "[1912, 1929, 1918, 1951, 1994, 1934, 1915, 1995, 1912, 1988, 2002, 1958, 1955, 1970, 1994]\n"
          ],
          "name": "stdout"
        }
      ]
    }
  ]
}